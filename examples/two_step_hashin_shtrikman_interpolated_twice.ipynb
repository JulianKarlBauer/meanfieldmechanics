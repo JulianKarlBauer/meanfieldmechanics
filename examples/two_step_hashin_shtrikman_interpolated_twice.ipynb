{
 "cells": [
  {
   "cell_type": "code",
   "execution_count": 1,
   "metadata": {},
   "outputs": [],
   "source": [
    "#!/usr/bin/env python3\n",
    "# -*- coding: utf-8 -*-\n",
    "import numpy as np\n",
    "import mechmean\n",
    "import mechkit\n",
    "from mechmean.example_input import inp"
   ]
  },
  {
   "cell_type": "code",
   "execution_count": 2,
   "metadata": {},
   "outputs": [],
   "source": [
    "np.set_printoptions(linewidth=140)"
   ]
  },
  {
   "cell_type": "markdown",
   "metadata": {},
   "source": [
    "Define isotropic constituents"
   ]
  },
  {
   "cell_type": "code",
   "execution_count": 3,
   "metadata": {},
   "outputs": [],
   "source": [
    "inclusion = mechkit.material.Isotropic(E=inp[\"E_f\"], nu=inp[\"nu_f\"])\n",
    "matrix = mechkit.material.Isotropic(E=inp[\"E_m\"], nu=inp[\"nu_m\"])"
   ]
  },
  {
   "cell_type": "markdown",
   "metadata": {},
   "source": [
    "Define orientation averager and polairzation"
   ]
  },
  {
   "cell_type": "code",
   "execution_count": 4,
   "metadata": {},
   "outputs": [],
   "source": [
    "averager = mechmean.orientation_averager.AdvaniTucker(N4=inp[\"N4\"])\n",
    "P_func = mechmean.hill_polarization.Factory().needle"
   ]
  },
  {
   "cell_type": "markdown",
   "metadata": {},
   "source": [
    "Homogenize"
   ]
  },
  {
   "cell_type": "code",
   "execution_count": 5,
   "metadata": {},
   "outputs": [],
   "source": [
    "input_dict = {\n",
    "    \"phases\": {\n",
    "        \"inclusion\": {\n",
    "            \"material\": inclusion,\n",
    "            \"volume_fraction\": inp[\"c_f\"],\n",
    "        },\n",
    "        \"matrix\": {\n",
    "            \"material\": matrix,\n",
    "            \"volume_fraction\": 1.0 - inp[\"c_f\"],\n",
    "        },\n",
    "    },\n",
    "    \"k1\": 1.0 / 2.0,\n",
    "    \"k2\": 1.0 / 2.0,\n",
    "    \"averaging_func\": averager.average,\n",
    "}\n",
    "hashin = mechmean.approximation.HSW2StepInterpolatedReferenceMaterial(**input_dict)\n",
    "C_eff = hashin.calc_C_eff()"
   ]
  },
  {
   "cell_type": "code",
   "execution_count": 6,
   "metadata": {},
   "outputs": [
    {
     "name": "stdout",
     "output_type": "stream",
     "text": [
      "Effective stiffness Hashin Shtrikman two step with two interpolations\n",
      "[[ 1.63102824e+01  6.58025250e+00  5.92268990e+00 -1.30273244e-02 -1.54212831e-01  3.41663919e-01]\n",
      " [ 6.58025250e+00  1.47855403e+01  5.97255588e+00 -1.76997935e-02 -2.17124072e-02  3.06640385e-01]\n",
      " [ 5.92268990e+00  5.97255588e+00  1.22565235e+01 -1.95743285e-04 -4.24225377e-02 -2.81542424e-02]\n",
      " [-1.30273244e-02 -1.76997935e-02 -1.95743285e-04  6.86934068e+00  9.09581576e-02 -8.37665265e-02]\n",
      " [-1.54212831e-01 -2.17124072e-02 -4.24225377e-02  9.09581576e-02  7.21591508e+00 -2.59557689e-02]\n",
      " [ 3.41663919e-01  3.06640385e-01 -2.81542424e-02 -8.37665265e-02 -2.59557689e-02  9.71821602e+00]]\n"
     ]
    }
   ],
   "source": [
    "print(\"Effective stiffness Hashin Shtrikman two step with two interpolations\")\n",
    "print(C_eff)"
   ]
  }
 ],
 "metadata": {
  "kernelspec": {
   "display_name": "Python 3",
   "language": "python",
   "name": "python3"
  },
  "language_info": {
   "codemirror_mode": {
    "name": "ipython",
    "version": 3
   },
   "file_extension": ".py",
   "mimetype": "text/x-python",
   "name": "python",
   "nbconvert_exporter": "python",
   "pygments_lexer": "ipython3",
   "version": "3.9.7"
  }
 },
 "nbformat": 4,
 "nbformat_minor": 2
}
