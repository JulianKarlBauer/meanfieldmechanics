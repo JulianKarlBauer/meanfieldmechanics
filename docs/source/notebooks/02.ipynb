{
 "cells": [
  {
   "cell_type": "markdown",
   "id": "57c896f3",
   "metadata": {},
   "source": [
    "# Two-step Hashin-Shtrikman interpolated once"
   ]
  },
  {
   "cell_type": "code",
   "execution_count": 1,
   "id": "c9e44643",
   "metadata": {
    "execution": {
     "iopub.execute_input": "2022-04-14T18:11:12.974129Z",
     "iopub.status.busy": "2022-04-14T18:11:12.972030Z",
     "iopub.status.idle": "2022-04-14T18:11:13.349444Z",
     "shell.execute_reply": "2022-04-14T18:11:13.348996Z"
    }
   },
   "outputs": [],
   "source": [
    "import numpy as np\n",
    "import mechmean\n",
    "import mechkit\n",
    "from mechmean.example_input import inp"
   ]
  },
  {
   "cell_type": "code",
   "execution_count": 2,
   "id": "97ce04c1",
   "metadata": {
    "execution": {
     "iopub.execute_input": "2022-04-14T18:11:13.352210Z",
     "iopub.status.busy": "2022-04-14T18:11:13.351878Z",
     "iopub.status.idle": "2022-04-14T18:11:13.353766Z",
     "shell.execute_reply": "2022-04-14T18:11:13.353382Z"
    }
   },
   "outputs": [],
   "source": [
    "np.set_printoptions(linewidth=140)"
   ]
  },
  {
   "cell_type": "code",
   "execution_count": 3,
   "id": "526b6de1",
   "metadata": {
    "execution": {
     "iopub.execute_input": "2022-04-14T18:11:13.356857Z",
     "iopub.status.busy": "2022-04-14T18:11:13.356489Z",
     "iopub.status.idle": "2022-04-14T18:11:13.358362Z",
     "shell.execute_reply": "2022-04-14T18:11:13.357995Z"
    }
   },
   "outputs": [],
   "source": [
    "# Define isotropic constituents\n",
    "inclusion = mechkit.material.Isotropic(E=inp[\"E_f\"], nu=inp[\"nu_f\"])\n",
    "matrix = mechkit.material.Isotropic(E=inp[\"E_m\"], nu=inp[\"nu_m\"])"
   ]
  },
  {
   "cell_type": "code",
   "execution_count": 4,
   "id": "743c616d",
   "metadata": {
    "execution": {
     "iopub.execute_input": "2022-04-14T18:11:13.361295Z",
     "iopub.status.busy": "2022-04-14T18:11:13.360834Z",
     "iopub.status.idle": "2022-04-14T18:11:13.384937Z",
     "shell.execute_reply": "2022-04-14T18:11:13.384575Z"
    }
   },
   "outputs": [],
   "source": [
    "# Define orientation averager and polairzation\n",
    "averager = mechmean.orientation_averager.AdvaniTucker(N4=inp[\"N4\"])\n",
    "P_func = mechmean.hill_polarization.Factory().needle"
   ]
  },
  {
   "cell_type": "code",
   "execution_count": 5,
   "id": "a5e9946e",
   "metadata": {
    "execution": {
     "iopub.execute_input": "2022-04-14T18:11:13.388638Z",
     "iopub.status.busy": "2022-04-14T18:11:13.388243Z",
     "iopub.status.idle": "2022-04-14T18:11:13.391883Z",
     "shell.execute_reply": "2022-04-14T18:11:13.392205Z"
    }
   },
   "outputs": [],
   "source": [
    "# Homogenize\n",
    "input_dict = {\n",
    "    \"phases\": {\n",
    "        \"inclusion\": {\n",
    "            \"material\": inclusion,\n",
    "            \"volume_fraction\": inp[\"c_f\"],\n",
    "        },\n",
    "        \"matrix\": {\n",
    "            \"material\": matrix,\n",
    "            \"volume_fraction\": 1.0 - inp[\"c_f\"],\n",
    "        },\n",
    "    },\n",
    "    \"k\": 1.0 / 2.0,\n",
    "    \"averaging_func\": averager.average,\n",
    "}\n",
    "hashin = mechmean.approximation.Kehrer2019(**input_dict)\n",
    "C_eff = hashin.calc_C_eff()"
   ]
  },
  {
   "cell_type": "code",
   "execution_count": 6,
   "id": "097c47da",
   "metadata": {
    "execution": {
     "iopub.execute_input": "2022-04-14T18:11:13.395445Z",
     "iopub.status.busy": "2022-04-14T18:11:13.395064Z",
     "iopub.status.idle": "2022-04-14T18:11:13.397098Z",
     "shell.execute_reply": "2022-04-14T18:11:13.397398Z"
    }
   },
   "outputs": [
    {
     "name": "stdout",
     "output_type": "stream",
     "text": [
      "Effective stiffness two step Hashin Shtrikman\n",
      "Effective_stiffness(upper=array([[ 1.79306622e+01,  6.79183199e+00,  6.44049100e+00, -7.92491438e-03, -1.22458610e-01,  2.79693636e-01],\n",
      "       [ 6.79183199e+00,  1.66571351e+01,  6.50198561e+00, -1.44257800e-02, -9.10987462e-03,  2.56586798e-01],\n",
      "       [ 6.44049100e+00,  6.50198561e+00,  1.43808190e+01, -2.85337268e-03, -4.82239343e-02, -3.03802346e-02],\n",
      "       [-7.92491438e-03, -1.44257800e-02, -2.85337268e-03,  8.56565464e+00,  1.06716825e-01, -7.33643806e-02],\n",
      "       [-1.22458610e-01, -9.10987462e-03, -4.82239343e-02,  1.06716825e-01,  8.95472773e+00, -1.95087657e-02],\n",
      "       [ 2.79693636e-01,  2.56586798e-01, -3.03802346e-02, -7.33643806e-02, -1.95087657e-02,  1.09913269e+01]]), lower=array([[ 1.31958542e+01,  6.53652351e+00,  5.06275498e+00, -2.56586400e-02, -2.11023481e-01,  4.35412759e-01],\n",
      "       [ 6.53652351e+00,  1.13419501e+01,  5.07695238e+00, -2.30964777e-02, -5.61794756e-02,  3.73083046e-01],\n",
      "       [ 5.06275498e+00,  5.07695238e+00,  8.76711885e+00,  8.96494982e-03, -8.82286689e-03, -1.95238689e-02],\n",
      "       [-2.56586400e-02, -2.30964777e-02,  8.96494982e-03,  3.73696055e+00,  1.40581209e-02, -9.26497992e-02],\n",
      "       [-2.11023481e-01, -5.61794756e-02, -8.82286689e-03,  1.40581209e-02,  3.84729163e+00, -3.93273718e-02],\n",
      "       [ 4.35412759e-01,  3.73083046e-01, -1.95238689e-02, -9.26497992e-02, -3.93273718e-02,  7.12215158e+00]]))\n"
     ]
    }
   ],
   "source": [
    "print(\"Effective stiffness two step Hashin Shtrikman\")\n",
    "print(C_eff)"
   ]
  }
 ],
 "metadata": {
  "jupytext": {
   "cell_metadata_filter": "-all",
   "main_language": "python",
   "notebook_metadata_filter": "-all"
  },
  "language_info": {
   "codemirror_mode": {
    "name": "ipython",
    "version": 3
   },
   "file_extension": ".py",
   "mimetype": "text/x-python",
   "name": "python",
   "nbconvert_exporter": "python",
   "pygments_lexer": "ipython3",
   "version": "3.9.7"
  }
 },
 "nbformat": 4,
 "nbformat_minor": 5
}
