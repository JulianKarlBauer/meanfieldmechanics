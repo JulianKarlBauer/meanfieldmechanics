{
 "cells": [
  {
   "cell_type": "markdown",
   "id": "33ee2c29",
   "metadata": {},
   "source": [
    "# Mori-Tanaka orientation-averaging following Benveniste"
   ]
  },
  {
   "cell_type": "code",
   "execution_count": 1,
   "id": "b209d4d7",
   "metadata": {
    "execution": {
     "iopub.execute_input": "2022-04-14T18:11:18.716974Z",
     "iopub.status.busy": "2022-04-14T18:11:18.712798Z",
     "iopub.status.idle": "2022-04-14T18:11:19.090241Z",
     "shell.execute_reply": "2022-04-14T18:11:19.089785Z"
    }
   },
   "outputs": [],
   "source": [
    "import numpy as np\n",
    "import mechmean\n",
    "import mechkit\n",
    "from mechmean.example_input import inp"
   ]
  },
  {
   "cell_type": "code",
   "execution_count": 2,
   "id": "5e21eb0c",
   "metadata": {
    "execution": {
     "iopub.execute_input": "2022-04-14T18:11:19.093183Z",
     "iopub.status.busy": "2022-04-14T18:11:19.092804Z",
     "iopub.status.idle": "2022-04-14T18:11:19.094550Z",
     "shell.execute_reply": "2022-04-14T18:11:19.094828Z"
    }
   },
   "outputs": [],
   "source": [
    "np.set_printoptions(linewidth=140)"
   ]
  },
  {
   "cell_type": "code",
   "execution_count": 3,
   "id": "03b43b2c",
   "metadata": {
    "execution": {
     "iopub.execute_input": "2022-04-14T18:11:19.098233Z",
     "iopub.status.busy": "2022-04-14T18:11:19.097603Z",
     "iopub.status.idle": "2022-04-14T18:11:19.099969Z",
     "shell.execute_reply": "2022-04-14T18:11:19.100285Z"
    }
   },
   "outputs": [],
   "source": [
    "# Define isotropic constituents\n",
    "inclusion = mechkit.material.Isotropic(E=inp[\"E_f\"], nu=inp[\"nu_f\"])\n",
    "matrix = mechkit.material.Isotropic(E=inp[\"E_m\"], nu=inp[\"nu_m\"])"
   ]
  },
  {
   "cell_type": "code",
   "execution_count": 4,
   "id": "7fa25bf1",
   "metadata": {
    "execution": {
     "iopub.execute_input": "2022-04-14T18:11:19.103534Z",
     "iopub.status.busy": "2022-04-14T18:11:19.103137Z",
     "iopub.status.idle": "2022-04-14T18:11:19.140370Z",
     "shell.execute_reply": "2022-04-14T18:11:19.140027Z"
    }
   },
   "outputs": [],
   "source": [
    "# Define orientation averager and polairzation\n",
    "averager = mechmean.orientation_averager.AdvaniTucker(N4=inp[\"N4\"])\n",
    "P_func = mechmean.hill_polarization.Factory().needle"
   ]
  },
  {
   "cell_type": "code",
   "execution_count": 5,
   "id": "09f3516b",
   "metadata": {
    "execution": {
     "iopub.execute_input": "2022-04-14T18:11:19.144151Z",
     "iopub.status.busy": "2022-04-14T18:11:19.143752Z",
     "iopub.status.idle": "2022-04-14T18:11:19.146151Z",
     "shell.execute_reply": "2022-04-14T18:11:19.146636Z"
    }
   },
   "outputs": [],
   "source": [
    "# Homogenize\n",
    "input_dict = {\n",
    "    \"phases\": {\n",
    "        \"inclusion\": {\n",
    "            \"material\": inclusion,\n",
    "            \"volume_fraction\": inp[\"c_f\"],\n",
    "            \"hill_polarization\": P_func(matrix=matrix),\n",
    "        },\n",
    "        \"matrix\": {\"material\": matrix},\n",
    "    },\n",
    "    \"averaging_func\": averager.average,\n",
    "}\n",
    "mori = mechmean.approximation.MoriTanakaOrientationAveragedBenveniste(**input_dict)\n",
    "C_eff = mori.calc_C_eff()"
   ]
  },
  {
   "cell_type": "code",
   "execution_count": 6,
   "id": "f1ff7559",
   "metadata": {
    "execution": {
     "iopub.execute_input": "2022-04-14T18:11:19.150026Z",
     "iopub.status.busy": "2022-04-14T18:11:19.149610Z",
     "iopub.status.idle": "2022-04-14T18:11:19.151330Z",
     "shell.execute_reply": "2022-04-14T18:11:19.151609Z"
    }
   },
   "outputs": [
    {
     "name": "stdout",
     "output_type": "stream",
     "text": [
      "Effective stiffness Mori-Tanaka orientation averaged Benveniste\n",
      "[[ 1.47943982e+01  7.00026565e+00  5.04483004e+00 -3.11842820e-02 -2.84194469e-01  4.86308110e-01]\n",
      " [ 7.00026565e+00  1.25132047e+01  5.05650542e+00 -2.97292454e-02 -7.22634268e-02  4.39040769e-01]\n",
      " [ 5.04483004e+00  5.05650542e+00  8.82684679e+00  1.47193211e-02 -1.30284579e-02 -2.30332984e-02]\n",
      " [-3.11842820e-02 -2.97292454e-02  1.47193211e-02  3.82448644e+00  1.66810461e-02 -1.23934804e-01]\n",
      " [-2.84194469e-01 -7.22634268e-02 -1.30284579e-02  1.66810461e-02  3.98247576e+00 -4.84309199e-02]\n",
      " [ 4.86308110e-01  4.39040769e-01 -2.30332984e-02 -1.23934804e-01 -4.84309199e-02  8.38639337e+00]]\n"
     ]
    }
   ],
   "source": [
    "print(\"Effective stiffness Mori-Tanaka orientation averaged Benveniste\")\n",
    "print(C_eff)"
   ]
  }
 ],
 "metadata": {
  "jupytext": {
   "cell_metadata_filter": "-all",
   "main_language": "python",
   "notebook_metadata_filter": "-all"
  },
  "language_info": {
   "codemirror_mode": {
    "name": "ipython",
    "version": 3
   },
   "file_extension": ".py",
   "mimetype": "text/x-python",
   "name": "python",
   "nbconvert_exporter": "python",
   "pygments_lexer": "ipython3",
   "version": "3.9.7"
  }
 },
 "nbformat": 4,
 "nbformat_minor": 5
}
