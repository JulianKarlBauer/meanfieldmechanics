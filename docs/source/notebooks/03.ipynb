{
 "cells": [
  {
   "cell_type": "markdown",
   "id": "551237e2",
   "metadata": {},
   "source": [
    "# Two-step Hashin-Shtrikman interpolated twice"
   ]
  },
  {
   "cell_type": "code",
   "execution_count": 1,
   "id": "e7b1d7b0",
   "metadata": {
    "execution": {
     "iopub.execute_input": "2022-04-14T18:11:15.955717Z",
     "iopub.status.busy": "2022-04-14T18:11:15.953973Z",
     "iopub.status.idle": "2022-04-14T18:11:16.328653Z",
     "shell.execute_reply": "2022-04-14T18:11:16.328227Z"
    }
   },
   "outputs": [],
   "source": [
    "import numpy as np\n",
    "import mechmean\n",
    "import mechkit\n",
    "from mechmean.example_input import inp"
   ]
  },
  {
   "cell_type": "code",
   "execution_count": 2,
   "id": "fbdc3031",
   "metadata": {
    "execution": {
     "iopub.execute_input": "2022-04-14T18:11:16.331276Z",
     "iopub.status.busy": "2022-04-14T18:11:16.330959Z",
     "iopub.status.idle": "2022-04-14T18:11:16.332820Z",
     "shell.execute_reply": "2022-04-14T18:11:16.332472Z"
    }
   },
   "outputs": [],
   "source": [
    "np.set_printoptions(linewidth=140)"
   ]
  },
  {
   "cell_type": "code",
   "execution_count": 3,
   "id": "37815944",
   "metadata": {
    "execution": {
     "iopub.execute_input": "2022-04-14T18:11:16.335662Z",
     "iopub.status.busy": "2022-04-14T18:11:16.335318Z",
     "iopub.status.idle": "2022-04-14T18:11:16.337166Z",
     "shell.execute_reply": "2022-04-14T18:11:16.336768Z"
    }
   },
   "outputs": [],
   "source": [
    "# Define isotropic constituents\n",
    "inclusion = mechkit.material.Isotropic(E=inp[\"E_f\"], nu=inp[\"nu_f\"])\n",
    "matrix = mechkit.material.Isotropic(E=inp[\"E_m\"], nu=inp[\"nu_m\"])"
   ]
  },
  {
   "cell_type": "code",
   "execution_count": 4,
   "id": "302ae590",
   "metadata": {
    "execution": {
     "iopub.execute_input": "2022-04-14T18:11:16.340040Z",
     "iopub.status.busy": "2022-04-14T18:11:16.339657Z",
     "iopub.status.idle": "2022-04-14T18:11:16.361130Z",
     "shell.execute_reply": "2022-04-14T18:11:16.360744Z"
    }
   },
   "outputs": [],
   "source": [
    "# Define orientation averager and polairzation\n",
    "averager = mechmean.orientation_averager.AdvaniTucker(N4=inp[\"N4\"])\n",
    "P_func = mechmean.hill_polarization.Factory().needle"
   ]
  },
  {
   "cell_type": "code",
   "execution_count": 5,
   "id": "1913231f",
   "metadata": {
    "execution": {
     "iopub.execute_input": "2022-04-14T18:11:16.364992Z",
     "iopub.status.busy": "2022-04-14T18:11:16.364591Z",
     "iopub.status.idle": "2022-04-14T18:11:16.370042Z",
     "shell.execute_reply": "2022-04-14T18:11:16.369629Z"
    }
   },
   "outputs": [],
   "source": [
    "# Homogenize\n",
    "input_dict = {\n",
    "    \"phases\": {\n",
    "        \"inclusion\": {\n",
    "            \"material\": inclusion,\n",
    "            \"volume_fraction\": inp[\"c_f\"],\n",
    "        },\n",
    "        \"matrix\": {\n",
    "            \"material\": matrix,\n",
    "            \"volume_fraction\": 1.0 - inp[\"c_f\"],\n",
    "        },\n",
    "    },\n",
    "    \"k1\": 1.0 / 2.0,\n",
    "    \"k2\": 1.0 / 2.0,\n",
    "    \"averaging_func\": averager.average,\n",
    "}\n",
    "hashin = mechmean.approximation.HSW2StepInterpolatedReferenceMaterial(**input_dict)\n",
    "C_eff = hashin.calc_C_eff()"
   ]
  },
  {
   "cell_type": "code",
   "execution_count": 6,
   "id": "d8bb94ef",
   "metadata": {
    "execution": {
     "iopub.execute_input": "2022-04-14T18:11:16.373033Z",
     "iopub.status.busy": "2022-04-14T18:11:16.372631Z",
     "iopub.status.idle": "2022-04-14T18:11:16.374495Z",
     "shell.execute_reply": "2022-04-14T18:11:16.374790Z"
    }
   },
   "outputs": [
    {
     "name": "stdout",
     "output_type": "stream",
     "text": [
      "Effective stiffness Hashin Shtrikman two step with two interpolations\n",
      "[[ 1.63102824e+01  6.58025250e+00  5.92268990e+00 -1.30273244e-02 -1.54212831e-01  3.41663919e-01]\n",
      " [ 6.58025250e+00  1.47855403e+01  5.97255588e+00 -1.76997935e-02 -2.17124072e-02  3.06640385e-01]\n",
      " [ 5.92268990e+00  5.97255588e+00  1.22565235e+01 -1.95743285e-04 -4.24225377e-02 -2.81542424e-02]\n",
      " [-1.30273244e-02 -1.76997935e-02 -1.95743285e-04  6.86934068e+00  9.09581576e-02 -8.37665265e-02]\n",
      " [-1.54212831e-01 -2.17124072e-02 -4.24225377e-02  9.09581576e-02  7.21591508e+00 -2.59557689e-02]\n",
      " [ 3.41663919e-01  3.06640385e-01 -2.81542424e-02 -8.37665265e-02 -2.59557689e-02  9.71821602e+00]]\n"
     ]
    }
   ],
   "source": [
    "print(\"Effective stiffness Hashin Shtrikman two step with two interpolations\")\n",
    "print(C_eff)"
   ]
  }
 ],
 "metadata": {
  "jupytext": {
   "cell_metadata_filter": "-all",
   "main_language": "python",
   "notebook_metadata_filter": "-all"
  },
  "language_info": {
   "codemirror_mode": {
    "name": "ipython",
    "version": 3
   },
   "file_extension": ".py",
   "mimetype": "text/x-python",
   "name": "python",
   "nbconvert_exporter": "python",
   "pygments_lexer": "ipython3",
   "version": "3.9.7"
  }
 },
 "nbformat": 4,
 "nbformat_minor": 5
}
